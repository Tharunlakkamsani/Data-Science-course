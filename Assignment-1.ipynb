{
  "cells": [
    {
      "cell_type": "markdown",
      "metadata": {
        "id": "NGPMpW5ZVjnc"
      },
      "source": [
        "## Question 1"
      ]
    },
    {
      "cell_type": "markdown",
      "metadata": {
        "id": "LLO96A2BVjne"
      },
      "source": [
        "- `Take two integer numbers and return their product. If the product is greater than 1000, then return their sum if product is less than 1000 return product value only.`\n",
        "\n"
      ]
    },
    {
      "cell_type": "code",
      "execution_count": null,
      "metadata": {
        "id": "gTM25ILzVjnf",
        "outputId": "8f4f2e7a-96d9-40f4-9bdb-afef0be32b59",
        "colab": {
          "base_uri": "https://localhost:8080/"
        }
      },
      "outputs": [
        {
          "output_type": "stream",
          "name": "stdout",
          "text": [
            "Result: 360\n"
          ]
        }
      ],
      "source": [
        "# Please write The solution Here for above question 1:\n",
        "def productorsum(a, b):\n",
        "    product = a * b\n",
        "    if product > 1000:\n",
        "        return a + b\n",
        "    else:\n",
        "        return product\n",
        "num1 = 60\n",
        "num2 = 6\n",
        "result = productorsum(num1, num2)\n",
        "print(f\"Result: {result}\")\n",
        "\n"
      ]
    },
    {
      "cell_type": "markdown",
      "metadata": {
        "id": "vnbCY-zVVjng"
      },
      "source": [
        "## question 2"
      ]
    },
    {
      "cell_type": "markdown",
      "metadata": {
        "id": "MZo7iau6Vjng"
      },
      "source": [
        "- `Given a range of the first 10 numbers, Iterate from the start number to the end number, and In each iteration print the sum of the current number and previous number`\n",
        "\n",
        "Expected output:\n",
        "-----------------\n",
        "    Printing current and previous number sum in a range(10)\n",
        "    Current Number 0 Previous Number  0  Sum:  0\n",
        "    Current Number 1 Previous Number  0  Sum:  1\n",
        "    Current Number 2 Previous Number  1  Sum:  3\n",
        "    Current Number 3 Previous Number  2  Sum:  5\n",
        "    Current Number 4 Previous Number  3  Sum:  7\n",
        "    Current Number 5 Previous Number  4  Sum:  9\n",
        "    Current Number 6 Previous Number  5  Sum:  11\n",
        "    Current Number 7 Previous Number  6  Sum:  13\n",
        "    Current Number 8 Previous Number  7  Sum:  15\n",
        "    Current Number 9 Previous Number  8  Sum:  17"
      ]
    },
    {
      "cell_type": "code",
      "execution_count": 90,
      "metadata": {
        "id": "maznsJG2Vjng",
        "colab": {
          "base_uri": "https://localhost:8080/"
        },
        "outputId": "ec0fe5c0-a7f9-4235-8911-75c69149d359"
      },
      "outputs": [
        {
          "output_type": "stream",
          "name": "stdout",
          "text": [
            "Current number: 0, Previous number: 0, Sum: 0\n",
            "Current number: 1, Previous number: 0, Sum: 1\n",
            "Current number: 2, Previous number: 1, Sum: 3\n",
            "Current number: 3, Previous number: 2, Sum: 5\n",
            "Current number: 4, Previous number: 3, Sum: 7\n",
            "Current number: 5, Previous number: 4, Sum: 9\n",
            "Current number: 6, Previous number: 5, Sum: 11\n",
            "Current number: 7, Previous number: 6, Sum: 13\n",
            "Current number: 8, Previous number: 7, Sum: 15\n",
            "Current number: 9, Previous number: 8, Sum: 17\n"
          ]
        }
      ],
      "source": [
        "# Please write The solution Here for above question 2:\n",
        "start_number = 0\n",
        "end_number = 9\n",
        "printsumofcurrentandprevious(start_number, end_number)\n",
        "\n",
        "\n",
        "def printsumofcurrentandprevious(start, end):\n",
        "    previous_number = start\n",
        "    for current_number in range(start, end + 1):\n",
        "        current_sum = previous_number + current_number\n",
        "        print(f\"Current number: {current_number}, Previous number: {previous_number}, Sum: {current_sum}\")\n",
        "        previous_number = current_number\n",
        "\n",
        "\n",
        "\n"
      ]
    },
    {
      "cell_type": "markdown",
      "metadata": {
        "id": "ufUF9URGVjnh"
      },
      "source": [
        "## question 3"
      ]
    },
    {
      "cell_type": "markdown",
      "metadata": {
        "id": "BzQtxAygVjnh"
      },
      "source": [
        "Given a string and an integer number n, remove characters from a string starting from zero up to n and return a new string\n",
        "\n",
        "- Example :\n",
        "     `(\"pynative\", 4) so output must be tive.`\n",
        "     \n",
        "     `Note: n must be less than the length of the string.`"
      ]
    },
    {
      "cell_type": "code",
      "execution_count": null,
      "metadata": {
        "id": "XvE9LwJ2Vjnh",
        "colab": {
          "base_uri": "https://localhost:8080/"
        },
        "outputId": "c526e56d-a404-4487-f87c-b92e011837e0"
      },
      "outputs": [
        {
          "output_type": "stream",
          "name": "stdout",
          "text": [
            "3\n",
            "tive\n"
          ]
        }
      ],
      "source": [
        "# Please write The solution Here for above qu\n",
        "a=\"pynative\"\n",
        "n=int(input())\n",
        "def A(a,n):\n",
        "  if(n>=len(a)):\n",
        "    return 'invalid'\n",
        "  else:\n",
        "    return a[n+1:]\n",
        "res=A(a,n)\n",
        "print(res)\n"
      ]
    },
    {
      "cell_type": "markdown",
      "metadata": {
        "id": "q6PMd02lVjni"
      },
      "source": [
        "## question 4"
      ]
    },
    {
      "cell_type": "markdown",
      "metadata": {
        "id": "fX5ChIK7Vjni"
      },
      "source": [
        "### `Given a list of numbers, return True if first and last number of a list is same`\n",
        "\n",
        "    Expected Output:\n",
        "    -------------------------------------\n",
        "\n",
        "    Given list is\n",
        "    a =  [10, 20, 30, 40, 10]\n",
        "    b = [10 , 20 , 30 , 40, 10 ]\n",
        "    result is True\n",
        "\n",
        "    Given list is  \n",
        "    a = [10, 20, 30, 40, 50]\n",
        "    b = [11 , 21 , 31 , 41 , 51 ]\n",
        "    result is False"
      ]
    },
    {
      "cell_type": "code",
      "execution_count": 91,
      "metadata": {
        "id": "FDNxptG8Vjni",
        "colab": {
          "base_uri": "https://localhost:8080/"
        },
        "outputId": "2f2394d2-7aca-4974-f6dc-ddc1b5737227"
      },
      "outputs": [
        {
          "output_type": "stream",
          "name": "stdout",
          "text": [
            "Given list is\n",
            "a = [10, 20, 30, 40, 10]\n",
            "b = [10, 20, 30, 40, 10]\n",
            "result is True\n",
            "\n",
            "Given list is\n",
            "a = [10, 20, 30, 40, 50]\n",
            "b = [11, 21, 31, 41, 51]\n",
            "result is False\n"
          ]
        }
      ],
      "source": [
        "# Please write The solution Here for above question 4:\n",
        "def check_first_last_same(nums):\n",
        "    if nums[0] == nums[-1]:\n",
        "        return True\n",
        "    else:\n",
        "        return False\n",
        "a = [10, 20, 30, 40, 10]\n",
        "b = [10, 20, 30, 40, 10]\n",
        "print(f\"Given list is\\na = {a}\\nb = {b}\\nresult is {check_first_last_same(a)}\\n\")\n",
        "c = [10, 20, 30, 40, 50]\n",
        "d = [11, 21, 31, 41, 51]\n",
        "print(f\"Given list is\\na = {c}\\nb = {d}\\nresult is {check_first_last_same(c)}\")\n",
        "\n",
        "\n"
      ]
    },
    {
      "cell_type": "markdown",
      "metadata": {
        "id": "9_7cWG-UVjni"
      },
      "source": [
        "## question 5"
      ]
    },
    {
      "cell_type": "markdown",
      "metadata": {
        "id": "PIgHga81Vjni"
      },
      "source": [
        "### Given a two Python list. Iterate both lists simultaneously such that list1 should display item in original order and list2 in reverse order\n",
        "\n",
        "    list1 = [10, 20, 30, 40]\n",
        "    list2 = [100, 200, 300, 400]\n",
        "\n",
        "\n",
        "    Expected output:\n",
        "    -----------------------------\n",
        "    10 400\n",
        "    20 300\n",
        "    30 200\n",
        "    40 100"
      ]
    },
    {
      "cell_type": "code",
      "execution_count": 92,
      "metadata": {
        "id": "rWQB2tAMVjni",
        "colab": {
          "base_uri": "https://localhost:8080/"
        },
        "outputId": "684b8f2d-ea79-4136-8c34-611074cb6a27"
      },
      "outputs": [
        {
          "output_type": "stream",
          "name": "stdout",
          "text": [
            "10 400\n",
            "20 300\n",
            "30 200\n",
            "40 100\n"
          ]
        }
      ],
      "source": [
        "# Please write The solution Here for above question 5:\n",
        "list1 = [10, 20, 30, 40]\n",
        "list2 = [100, 200, 300, 400]\n",
        "list2.reverse()\n",
        "for i in range(len(list1)):\n",
        "    print(list1[i],end=\" \")\n",
        "    print(list2[i])"
      ]
    },
    {
      "cell_type": "markdown",
      "metadata": {
        "id": "UFmG3pmrVjnj"
      },
      "source": [
        "## question 6"
      ]
    },
    {
      "cell_type": "markdown",
      "metadata": {
        "id": "RF_UkziyVjnj"
      },
      "source": [
        "### Remove empty strings from the list of strings\n",
        "\n",
        "\n",
        "    list1 = [\"Mike\", \"\", \"Emma\", \"Kelly\", \"\", \"Brad\"]\n",
        "\n",
        "    Expected output:\n",
        "    ----------------------\n",
        "\n",
        "    [\"Mike\", \"Emma\", \"Kelly\", \"Brad\"]\n"
      ]
    },
    {
      "cell_type": "code",
      "execution_count": 93,
      "metadata": {
        "id": "wiP20AYeVjnj",
        "colab": {
          "base_uri": "https://localhost:8080/"
        },
        "outputId": "4e6f1d3e-1a52-4c74-9f38-89160cfdf44e"
      },
      "outputs": [
        {
          "output_type": "stream",
          "name": "stdout",
          "text": [
            "['Mike', 'Emma', 'Kelly', 'Brad']\n"
          ]
        }
      ],
      "source": [
        "# Please write The solution Here for above question 6:\n",
        "S= [\"Mike\", \"\", \"Emma\", \"Kelly\", \"\", \"Brad\"]\n",
        "h=[]\n",
        "for i in S:\n",
        "  if len(i)>0:\n",
        "    h.append(i)\n",
        "  else:\n",
        "     pass\n",
        "print(h)\n",
        "\n",
        "\n"
      ]
    },
    {
      "cell_type": "code",
      "execution_count": null,
      "metadata": {
        "id": "YlKMcR6kVjnj"
      },
      "outputs": [],
      "source": []
    }
  ],
  "metadata": {
    "kernelspec": {
      "display_name": "Python 3 (ipykernel)",
      "language": "python",
      "name": "python3"
    },
    "language_info": {
      "codemirror_mode": {
        "name": "ipython",
        "version": 3
      },
      "file_extension": ".py",
      "mimetype": "text/x-python",
      "name": "python",
      "nbconvert_exporter": "python",
      "pygments_lexer": "ipython3",
      "version": "3.11.5"
    },
    "colab": {
      "provenance": []
    }
  },
  "nbformat": 4,
  "nbformat_minor": 0
}